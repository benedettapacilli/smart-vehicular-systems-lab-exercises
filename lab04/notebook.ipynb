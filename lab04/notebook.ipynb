{
 "cells": [
  {
   "cell_type": "markdown",
   "metadata": {},
   "source": [
    "# Lab Assignment\n",
    "\n",
    "**Exercise Description** <br>\n",
    "In this exercise, you are required to implement an emergency braking system on a vehicle in \n",
    "the CARLA simulator using a radar sensor. The vehicle must be able to: \n",
    "- Detect obstacles or vehicles ahead using the radar. \n",
    "- Calculate the Time to Collision (TTC) based on the relative speed and distance of the \n",
    "obstacle. \n",
    "- Activate emergency braking if the TTC falls below a predefined threshold to avoid a \n",
    "collision.\n",
    "\n",
    "**Requirements** <br>\n",
    "1. Radar Sensor Configuration: \n",
    "    - Add a radar sensor to the vehicle in the simulator. \n",
    "    - Configure the sensor to collect relevant data (distance, relative speed, angle). \n",
    "2. Radar Data Processing: \n",
    "    - Write an algorithm to process radar data in real-time. \n",
    "    - Identify relevant obstacles ahead of the vehicle. \n",
    "    - Calculate the TTC for each obstacle. \n",
    "3. Implementation of the Braking System: \n",
    "    - Define a TTC threshold to activate braking. \n",
    "    - Implement a control that applies emergency braking when necessary. \n",
    "4. Testing and Validation: \n",
    "    - Create test scenarios in the simulator to verify the system's functionality. \n",
    "    - Document the results, including cases where braking successfully prevents a collision"
   ]
  },
  {
   "cell_type": "code",
   "execution_count": 1,
   "metadata": {},
   "outputs": [],
   "source": [
    "import carla, time, math\n",
    "import numpy as np"
   ]
  },
  {
   "cell_type": "code",
   "execution_count": 2,
   "metadata": {},
   "outputs": [],
   "source": [
    "client = carla.Client('localhost', 2000)\n",
    "client.set_timeout(10.0)\n",
    "\n",
    "world = client.get_world()\n",
    "spectator = world.get_spectator()"
   ]
  },
  {
   "cell_type": "code",
   "execution_count": 3,
   "metadata": {},
   "outputs": [],
   "source": [
    "def move_spectator_to(transform, spectator, distance=5.0, x=0, y=0, z=4, yaw=0, pitch=-30, roll=0):\n",
    "    back_location = transform.location - transform.get_forward_vector() * distance\n",
    "    \n",
    "    back_location.x += x\n",
    "    back_location.y += y\n",
    "    back_location.z += z\n",
    "    transform.rotation.yaw += yaw\n",
    "    transform.rotation.pitch = pitch\n",
    "    transform.rotation.roll = roll\n",
    "    \n",
    "    spectator_transform = carla.Transform(back_location, transform.rotation)\n",
    "    \n",
    "    spectator.set_transform(spectator_transform)\n",
    "\n",
    "def spawn_vehicle(vehicle_index=0, spawn_index=0, pattern='vehicle.*'):\n",
    "    blueprint_library = world.get_blueprint_library()\n",
    "    vehicle_bp = blueprint_library.filter(pattern)[vehicle_index]\n",
    "    spawn_point = world.get_map().get_spawn_points()[spawn_index]\n",
    "    vehicle = world.spawn_actor(vehicle_bp, spawn_point)\n",
    "    return vehicle\n",
    "\n",
    "def spawn_camera(attach_to=None, transform=carla.Transform(carla.Location(x=1.2, z=1.2), carla.Rotation(pitch=-10)), width=800, height=600):\n",
    "    camera_bp = world.get_blueprint_library().find('sensor.camera.rgb')\n",
    "    camera_bp.set_attribute('image_size_x', str(width))\n",
    "    camera_bp.set_attribute('image_size_y', str(height))\n",
    "    camera = world.spawn_actor(camera_bp, transform, attach_to=attach_to)\n",
    "    return camera\n",
    "\n",
    "def move_forward(vehicle, duration):\n",
    "    control = carla.VehicleControl()\n",
    "    control.throttle = 0.6\n",
    "    vehicle.apply_control(control)\n",
    "    start_time = time.time()\n",
    "    while time.time() - start_time < duration:\n",
    "        world.tick()\n",
    "        time.sleep(0.1)"
   ]
  },
  {
   "cell_type": "code",
   "execution_count": 6,
   "metadata": {},
   "outputs": [],
   "source": [
    "TTC_threshold = 2.0\n",
    "\n",
    "def calculate_ttc(distance, relative_speed):\n",
    "    if relative_speed <= 0:\n",
    "        return float('inf')\n",
    "    return distance / relative_speed\n",
    "\n",
    "def brake(vehicle):\n",
    "    control = carla.VehicleControl()\n",
    "    control.throttle = 0.0\n",
    "    control.brake = 1.0\n",
    "    vehicle.apply_control(control)\n",
    "\n",
    "def test():\n",
    "    global target_vehicle, lidar, ego_vehicle\n",
    "\n",
    "    target_vehicle = spawn_vehicle()\n",
    "\n",
    "    time.sleep(1)\n",
    "\n",
    "    target_transform = target_vehicle.get_transform()\n",
    "    target_transform.location += carla.Location(x=30)\n",
    "    target_vehicle.set_transform(target_transform)\n",
    "\n",
    "    time.sleep(1)\n",
    "\n",
    "    ego_vehicle = spawn_vehicle()\n",
    "\n",
    "    move_spectator_to(ego_vehicle.get_transform(), spectator)\n",
    "    move_forward(ego_vehicle, 100)\n",
    "\n",
    "    lidar_bp = world.get_blueprint_library().find('sensor.lidar.ray_cast')\n",
    "    lidar_bp.set_attribute('horizontal_fov', '30')\n",
    "    lidar_bp.set_attribute('range', '20')\n",
    "    lidar_transform = carla.Transform(carla.Location(x=0, z=2.5))\n",
    "    lidar = world.spawn_actor(lidar_bp, lidar_transform, attach_to=ego_vehicle)\n",
    "\n",
    "    def lidar_callback(data):\n",
    "        for detection in data:\n",
    "            distance = detection.x\n",
    "            relative_speed = detection.y\n",
    "            TTC = calculate_ttc(distance, relative_speed)\n",
    "            print('Distance:', distance, 'Relative speed:', relative_speed, 'TTC:', TTC)\n",
    "            if TTC < TTC_threshold:\n",
    "                brake(ego_vehicle)\n",
    "\n",
    "    lidar.listen(lambda data: lidar_callback(data))\n",
    "    time.sleep(20)"
   ]
  },
  {
   "cell_type": "code",
   "execution_count": 7,
   "metadata": {},
   "outputs": [
    {
     "ename": "KeyboardInterrupt",
     "evalue": "",
     "output_type": "error",
     "traceback": [
      "\u001b[1;31m---------------------------------------------------------------------------\u001b[0m",
      "\u001b[1;31mKeyboardInterrupt\u001b[0m                         Traceback (most recent call last)",
      "\u001b[1;32m~\\AppData\\Local\\Temp\\ipykernel_1436\\756179265.py\u001b[0m in \u001b[0;36m<module>\u001b[1;34m\u001b[0m\n\u001b[1;32m----> 1\u001b[1;33m \u001b[0mtest\u001b[0m\u001b[1;33m(\u001b[0m\u001b[1;33m)\u001b[0m\u001b[1;33m\u001b[0m\u001b[1;33m\u001b[0m\u001b[0m\n\u001b[0m",
      "\u001b[1;32m~\\AppData\\Local\\Temp\\ipykernel_1436\\2837089264.py\u001b[0m in \u001b[0;36mtest\u001b[1;34m()\u001b[0m\n\u001b[0;32m     28\u001b[0m \u001b[1;33m\u001b[0m\u001b[0m\n\u001b[0;32m     29\u001b[0m     \u001b[0mmove_spectator_to\u001b[0m\u001b[1;33m(\u001b[0m\u001b[0mego_vehicle\u001b[0m\u001b[1;33m.\u001b[0m\u001b[0mget_transform\u001b[0m\u001b[1;33m(\u001b[0m\u001b[1;33m)\u001b[0m\u001b[1;33m,\u001b[0m \u001b[0mspectator\u001b[0m\u001b[1;33m)\u001b[0m\u001b[1;33m\u001b[0m\u001b[1;33m\u001b[0m\u001b[0m\n\u001b[1;32m---> 30\u001b[1;33m     \u001b[0mmove_forward\u001b[0m\u001b[1;33m(\u001b[0m\u001b[0mego_vehicle\u001b[0m\u001b[1;33m,\u001b[0m \u001b[1;36m100\u001b[0m\u001b[1;33m)\u001b[0m\u001b[1;33m\u001b[0m\u001b[1;33m\u001b[0m\u001b[0m\n\u001b[0m\u001b[0;32m     31\u001b[0m \u001b[1;33m\u001b[0m\u001b[0m\n\u001b[0;32m     32\u001b[0m     \u001b[0mlidar_bp\u001b[0m \u001b[1;33m=\u001b[0m \u001b[0mworld\u001b[0m\u001b[1;33m.\u001b[0m\u001b[0mget_blueprint_library\u001b[0m\u001b[1;33m(\u001b[0m\u001b[1;33m)\u001b[0m\u001b[1;33m.\u001b[0m\u001b[0mfind\u001b[0m\u001b[1;33m(\u001b[0m\u001b[1;34m'sensor.lidar.ray_cast'\u001b[0m\u001b[1;33m)\u001b[0m\u001b[1;33m\u001b[0m\u001b[1;33m\u001b[0m\u001b[0m\n",
      "\u001b[1;32m~\\AppData\\Local\\Temp\\ipykernel_1436\\2758831857.py\u001b[0m in \u001b[0;36mmove_forward\u001b[1;34m(vehicle, duration)\u001b[0m\n\u001b[0;32m     34\u001b[0m     \u001b[1;32mwhile\u001b[0m \u001b[0mtime\u001b[0m\u001b[1;33m.\u001b[0m\u001b[0mtime\u001b[0m\u001b[1;33m(\u001b[0m\u001b[1;33m)\u001b[0m \u001b[1;33m-\u001b[0m \u001b[0mstart_time\u001b[0m \u001b[1;33m<\u001b[0m \u001b[0mduration\u001b[0m\u001b[1;33m:\u001b[0m\u001b[1;33m\u001b[0m\u001b[1;33m\u001b[0m\u001b[0m\n\u001b[0;32m     35\u001b[0m         \u001b[0mworld\u001b[0m\u001b[1;33m.\u001b[0m\u001b[0mtick\u001b[0m\u001b[1;33m(\u001b[0m\u001b[1;33m)\u001b[0m\u001b[1;33m\u001b[0m\u001b[1;33m\u001b[0m\u001b[0m\n\u001b[1;32m---> 36\u001b[1;33m         \u001b[0mtime\u001b[0m\u001b[1;33m.\u001b[0m\u001b[0msleep\u001b[0m\u001b[1;33m(\u001b[0m\u001b[1;36m0.1\u001b[0m\u001b[1;33m)\u001b[0m\u001b[1;33m\u001b[0m\u001b[1;33m\u001b[0m\u001b[0m\n\u001b[0m",
      "\u001b[1;31mKeyboardInterrupt\u001b[0m: "
     ]
    }
   ],
   "source": [
    "test()"
   ]
  },
  {
   "cell_type": "code",
   "execution_count": 9,
   "metadata": {},
   "outputs": [
    {
     "data": {
      "text/plain": [
       "True"
      ]
     },
     "execution_count": 9,
     "metadata": {},
     "output_type": "execute_result"
    }
   ],
   "source": [
    "# lidar.stop()\n",
    "# lidar.destroy()\n",
    "target_vehicle.destroy()\n",
    "ego_vehicle.destroy()"
   ]
  }
 ],
 "metadata": {
  "kernelspec": {
   "display_name": "Python 3",
   "language": "python",
   "name": "python3"
  },
  "language_info": {
   "codemirror_mode": {
    "name": "ipython",
    "version": 3
   },
   "file_extension": ".py",
   "mimetype": "text/x-python",
   "name": "python",
   "nbconvert_exporter": "python",
   "pygments_lexer": "ipython3",
   "version": "3.7.16"
  }
 },
 "nbformat": 4,
 "nbformat_minor": 2
}
