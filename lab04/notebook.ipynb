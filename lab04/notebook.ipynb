{
 "cells": [
  {
   "cell_type": "markdown",
   "metadata": {},
   "source": [
    "# Lab Assignment\n",
    "\n",
    "**Exercise Description** <br>\n",
    "In this exercise, you are required to implement an emergency braking system on a vehicle in \n",
    "the CARLA simulator using a radar sensor. The vehicle must be able to: \n",
    "- Detect obstacles or vehicles ahead using the radar. \n",
    "- Calculate the Time to Collision (TTC) based on the relative speed and distance of the \n",
    "obstacle. \n",
    "- Activate emergency braking if the TTC falls below a predefined threshold to avoid a \n",
    "collision.\n",
    "\n",
    "**Requirements** <br>\n",
    "1. Radar Sensor Configuration: \n",
    "    - Add a radar sensor to the vehicle in the simulator. \n",
    "    - Configure the sensor to collect relevant data (distance, relative speed, angle). \n",
    "2. Radar Data Processing: \n",
    "    - Write an algorithm to process radar data in real-time. \n",
    "    - Identify relevant obstacles ahead of the vehicle. \n",
    "    - Calculate the TTC for each obstacle. \n",
    "3. Implementation of the Braking System: \n",
    "    - Define a TTC threshold to activate braking. \n",
    "    - Implement a control that applies emergency braking when necessary. \n",
    "4. Testing and Validation: \n",
    "    - Create test scenarios in the simulator to verify the system's functionality. \n",
    "    - Document the results, including cases where braking successfully prevents a collision"
   ]
  },
  {
   "cell_type": "code",
   "execution_count": null,
   "metadata": {},
   "outputs": [],
   "source": [
    "import carla, time, pygame, math, random, cv2\n",
    "import numpy as np"
   ]
  },
  {
   "cell_type": "code",
   "execution_count": null,
   "metadata": {},
   "outputs": [],
   "source": [
    "client = carla.Client('localhost', 2000)\n",
    "client.set_timeout(10.0)\n",
    "\n",
    "world = client.get_world()\n",
    "spectator = world.get_spectator()"
   ]
  },
  {
   "cell_type": "code",
   "execution_count": null,
   "metadata": {},
   "outputs": [],
   "source": [
    "def move_spectator_to(transform, distance=5.0, x=0, y=0, z=4, yaw=0, pitch=-30, roll=0):\n",
    "    back_location = transform.location - transform.get_forward_vector() * distance\n",
    "    \n",
    "    back_location.x += x\n",
    "    back_location.y += y\n",
    "    back_location.z += z\n",
    "    transform.rotation.yaw += yaw\n",
    "    transform.rotation.pitch = pitch\n",
    "    transform.rotation.roll = roll\n",
    "    \n",
    "    spectator_transform = carla.Transform(back_location, transform.rotation)\n",
    "    \n",
    "    spectator.set_transform(spectator_transform)\n",
    "\n",
    "def spawn_vehicle(vehicle_index=0, spawn_index=0, pattern='vehicle.*'):\n",
    "    blueprint_library = world.get_blueprint_library()\n",
    "    vehicle_bp = blueprint_library.filter(pattern)[vehicle_index]\n",
    "    spawn_point = world.get_map().get_spawn_points()[spawn_index]\n",
    "    vehicle = world.spawn_actor(vehicle_bp, spawn_point)\n",
    "    return vehicle\n",
    "\n",
    "def spawn_camera(attach_to=None, transform=carla.Transform(carla.Location(x=1.2, z=1.2), carla.Rotation(pitch=-10)), width=800, height=600):\n",
    "    camera_bp = world.get_blueprint_library().find('sensor.camera.rgb')\n",
    "    camera_bp.set_attribute('image_size_x', str(width))\n",
    "    camera_bp.set_attribute('image_size_y', str(height))\n",
    "    camera = world.spawn_actor(camera_bp, transform, attach_to=attach_to)\n",
    "    return camera"
   ]
  },
  {
   "cell_type": "code",
   "execution_count": null,
   "metadata": {},
   "outputs": [],
   "source": [
    "target_vehicle = spawn_vehicle()\n",
    "\n",
    "# 1. Add lidar radar sensor to the vehicle\n",
    "lidar_bp = world.get_blueprint_library().find('sensor.lidar.ray_cast')\n",
    "lidar_bp.set_attribute('range', '50')\n",
    "lidar_bp.set_attribute('rotation_frequency', '10')\n",
    "lidar_bp.set_attribute('channels', '32')\n",
    "lidar_bp.set_attribute('points_per_second', '56000')\n",
    "lidar_transform = carla.Transform(carla.Location(x=0, z=2.5))\n",
    "lidar = world.spawn_actor(lidar_bp, lidar_transform, attach_to=target_vehicle)\n",
    "\n",
    "# 2. sensor has to collect relevant data (distance, relative speed, angle)\n",
    "# 3. breaking system implemetation\n",
    "TTC_threshold = 2.0\n",
    "\n",
    "def get_TTC(distance, relative_speed):\n",
    "    if relative_speed == 0:\n",
    "        return 1000\n",
    "    return distance / relative_speed\n",
    "\n",
    "def brake():\n",
    "    target_vehicle.apply_control(carla.VehicleControl(throttle=0.0, brake=1.0))\n",
    "\n",
    "def callback_lidar(data):\n",
    "    points = np.frombuffer(data.raw_data, dtype=np.dtype('f4'))\n",
    "    points = np.reshape(points, (int(points.shape[0] / 3), 3))\n",
    "    for point in points:\n",
    "        distance = math.sqrt(point[0]**2 + point[1]**2 + point[2]**2)\n",
    "        relative_speed = target_vehicle.get_velocity().x\n",
    "        TTC = get_TTC(distance, relative_speed)\n",
    "        if TTC < TTC_threshold:\n",
    "            brake()\n",
    "\n",
    "lidar.listen(callback_lidar)"
   ]
  }
 ],
 "metadata": {
  "kernelspec": {
   "display_name": "Python 3",
   "language": "python",
   "name": "python3"
  },
  "language_info": {
   "name": "python",
   "version": "3.7.16"
  }
 },
 "nbformat": 4,
 "nbformat_minor": 2
}
